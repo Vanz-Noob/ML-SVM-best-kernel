{
 "cells": [
  {
   "cell_type": "code",
   "execution_count": 31,
   "metadata": {},
   "outputs": [],
   "source": [
    "import numpy as np\n",
    "import pandas as pd\n",
    "import matplotlib.pyplot as plt\n",
    "\n",
    "from sklearn.feature_extraction.text import CountVectorizer, TfidfVectorizer, TfidfTransformer\n",
    "from sklearn.model_selection import train_test_split, cross_val_score, RandomizedSearchCV, GridSearchCV\n",
    "from sklearn.svm import SVC\n",
    "from sklearn.metrics import classification_report, confusion_matrix, accuracy_score, recall_score, precision_score, f1_score\n",
    "from sklearn import model_selection, preprocessing, utils\n",
    "\n",
    "from pandas.plotting import scatter_matrix"
   ]
  },
  {
   "cell_type": "code",
   "execution_count": 32,
   "metadata": {},
   "outputs": [],
   "source": [
    "# Membaca file CSV ke dalam DataFrame\n",
    "df = pd.read_csv('Dataset2.csv', encoding='utf-8')\n",
    "\n",
    "# Menggabungkan isi dari beberapa kolom menjadi satu teks\n",
    "df['teks'] = df[['satu', 'dua', 'tiga', 'empat', 'lima']].astype(str).apply(lambda x: ' '.join(x), axis=1)\n",
    "\n",
    "# Membuat objek CountVectorizer dan TfidfTransformer\n",
    "cv = CountVectorizer()\n",
    "tfidf = TfidfTransformer(sublinear_tf=True, use_idf=True, smooth_idf=True)"
   ]
  },
  {
   "cell_type": "code",
   "execution_count": 34,
   "metadata": {},
   "outputs": [
    {
     "name": "stdout",
     "output_type": "stream",
     "text": [
      "X_train:  (2700, 6236)\n",
      "X_test:  (300, 6236)\n",
      "Y_train:  (2700,)\n",
      "Y_test:  (300,)\n"
     ]
    }
   ],
   "source": [
    "#tf-idf\n",
    "# tfidf = TfidfTransformer(sublinear_tf=True, use_idf=True, smooth_idf=True)\n",
    "X = tfidf.fit_transform(cv.fit_transform(df[\"teks\"])).toarray()\n",
    "y = df['label'].values\n",
    "X_train, X_test, Y_train, Y_test = train_test_split(X, y, test_size= 0.1, random_state= 0)\n",
    "print('X_train: ', X_train.shape)\n",
    "print('X_test: ', X_test.shape)\n",
    "print('Y_train: ', Y_train.shape)\n",
    "print('Y_test: ', Y_test.shape)"
   ]
  },
  {
   "cell_type": "code",
   "execution_count": null,
   "metadata": {},
   "outputs": [],
   "source": [
    "#Import svm model\n",
    "from sklearn import svm\n",
    "\n",
    "svm = SVC(decision_function_shape='ovo')\n",
    "hyperparameters = {'kernel':['rbf','linear','poly','sigmoid'], 'C':[0.5,0.75,1,10], 'gamma':[0.001,0.01,0.5,1,'scale','auto']}\n",
    "svm_tuned = GridSearchCV(svm,hyperparameters,cv=10)\n",
    "svm_tuned.fit(X_train, Y_train)\n",
    "\n",
    "#Train the model using the training sets\n",
    "svm.fit(X_train, Y_train)\n",
    "\n",
    "#mendapatkan nilai bias\n",
    "bias = svm.intercept_\n",
    "\n",
    "#Predict the response for test dataset\n",
    "y_pred = svm.predict(X_test)\n",
    "\n",
    "#Evaluasi Hasil Prediksi\n",
    "print(accuracy_score(Y_test, y_pred))\n",
    "print(confusion_matrix(Y_test, y_pred))\n",
    "print(classification_report(Y_test, y_pred))\n",
    "print(\"Nilai b:\", bias)\n",
    "print(\" \")\n",
    "print('Kernel Using  :',svm_tuned.best_estimator_.kernel)\n",
    "print('Best C       :',svm_tuned.best_estimator_.C)\n",
    "print('Best Gamma   :',svm_tuned.best_estimator_.gamma)\n",
    "print('Best Score   :',svm_tuned.best_score_)"
   ]
  },
  {
   "cell_type": "code",
   "execution_count": 35,
   "metadata": {},
   "outputs": [
    {
     "name": "stdout",
     "output_type": "stream",
     "text": [
      "Nilai b: [-0.164045   -0.12630359  0.03283582]\n",
      " \n",
      "Accuracy: 0.82\n",
      "Confusion Matrix:\n",
      " [[80 30  0]\n",
      " [ 0 95  0]\n",
      " [ 0 24 71]]\n",
      "Classification Report:\n",
      "               precision    recall  f1-score   support\n",
      "\n",
      "           1       1.00      0.73      0.84       110\n",
      "           2       0.64      1.00      0.78        95\n",
      "           3       1.00      0.75      0.86        95\n",
      "\n",
      "    accuracy                           0.82       300\n",
      "   macro avg       0.88      0.82      0.83       300\n",
      "weighted avg       0.89      0.82      0.83       300\n",
      "\n",
      " \n",
      "Best Kernel: rbf\n",
      "Best C: 94.5946\n",
      "Best Gamma: 69.0691\n",
      "Best Score: 0.7837037037037037\n"
     ]
    }
   ],
   "source": [
    "# Import svm model\n",
    "from sklearn import svm\n",
    "\n",
    "# Definisikan hyperparameter space untuk RandomizedSearchCV\n",
    "param_dist = {'kernel': ['rbf', 'linear', 'poly', 'sigmoid'], 'C': np.linspace(0.0001, 100, 1000), 'gamma': np.linspace(0.0001, 100, 1000)}\n",
    "# np.linspace(0.0001, 100, 1000) untuk membuat array dengan 1000 nilai yang berada dalam rentang dari 0.0001 hingga 100\n",
    "\n",
    "# Membuat objek model SVM\n",
    "svm = SVC(decision_function_shape='ovo')\n",
    "\n",
    "# Buat objek Randomized Search dengan model SVM dan hyperparameter space\n",
    "random_search = RandomizedSearchCV(svm, param_distributions=param_dist, n_iter=10, cv=10)\n",
    "\n",
    "\n",
    "# Latih model dengan Randomized Search untuk mencari hyperparameter terbaik\n",
    "random_search.fit(X_train, Y_train)\n",
    "\n",
    "# Mendapatkan model terbaik yang telah dilatih dengan hyperparameter terbaik\n",
    "best_svm_model = random_search.best_estimator_\n",
    "\n",
    "# Predict the response for test dataset using the best model\n",
    "y_pred = best_svm_model.predict(X_test)\n",
    "\n",
    "#mendapatkan nilai bias\n",
    "bias = best_svm_model.intercept_\n",
    "\n",
    "# print nilai bias model\n",
    "print(\"Nilai b:\", bias)\n",
    "print(\" \")\n",
    "\n",
    "# Evaluasi Hasil Prediksi\n",
    "print(\"Accuracy:\", accuracy_score(Y_test, y_pred))\n",
    "print(\"Confusion Matrix:\\n\", confusion_matrix(Y_test, y_pred))\n",
    "print(\"Classification Report:\\n\", classification_report(Y_test, y_pred))\n",
    "print(\" \")\n",
    "\n",
    "# Print the best hyperparameters\n",
    "print('Best Kernel:', random_search.best_estimator_.kernel)\n",
    "print('Best C:', random_search.best_estimator_.C)\n",
    "print('Best Gamma:', random_search.best_estimator_.gamma)\n",
    "print('Best Score:', random_search.best_score_)"
   ]
  },
  {
   "cell_type": "code",
   "execution_count": 36,
   "metadata": {},
   "outputs": [],
   "source": [
    "df_result = pd.DataFrame({'Actual': Y_test, 'Predicted': y_pred})\n",
    "df_result.to_csv('hasil_prediksi.csv', index=False)"
   ]
  }
 ],
 "metadata": {
  "kernelspec": {
   "display_name": "venv",
   "language": "python",
   "name": "python3"
  },
  "language_info": {
   "codemirror_mode": {
    "name": "ipython",
    "version": 3
   },
   "file_extension": ".py",
   "mimetype": "text/x-python",
   "name": "python",
   "nbconvert_exporter": "python",
   "pygments_lexer": "ipython3",
   "version": "3.11.4"
  },
  "orig_nbformat": 4
 },
 "nbformat": 4,
 "nbformat_minor": 2
}
